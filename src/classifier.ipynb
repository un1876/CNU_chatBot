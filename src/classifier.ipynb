{
 "cells": [
  {
   "cell_type": "code",
   "id": "initial_id",
   "metadata": {
    "ExecuteTime": {
     "end_time": "2025-06-22T04:44:55.848739Z",
     "start_time": "2025-06-22T04:44:15.981598Z"
    }
   },
   "source": [
    "import os, json, torch\n",
    "from transformers import AutoTokenizer, AutoModelForSequenceClassification\n",
    "\n",
    "# 안전하게 경로 설정\n",
    "try:\n",
    "    base_dir = os.path.dirname(os.path.abspath(__file__))\n",
    "except NameError:\n",
    "    base_dir = os.getcwd()\n",
    "\n",
    "device = torch.device(\"cuda\" if torch.cuda.is_available() else \"cpu\")\n",
    "\n",
    "# 예측 ID를 해석하려면 (선택사항)\n",
    "label_map = {\n",
    "    0: \"졸업요건\",\n",
    "    1: \"학교 공지사항\",\n",
    "    2: \"학사일정\",\n",
    "    3: \"식단 안내\",\n",
    "    4: \"통학/셔틀 버스\",\n",
    "}\n",
    "\n",
    "# 모델과 토크나이저 불러오기\n",
    "model_dir = os.path.join(base_dir, \"roberta\")\n",
    "tokenizer = AutoTokenizer.from_pretrained(model_dir)\n",
    "model     = AutoModelForSequenceClassification.from_pretrained(model_dir)\n",
    "model.to(device).eval()\n",
    "\n",
    "# 입력 데이터 로드\n",
    "test_path = os.path.join(base_dir, \"..\", \"data\", \"cls_test.json\")\n",
    "with open(test_path, \"r\", encoding=\"utf-8\") as f:\n",
    "    samples = json.load(f)\n",
    "\n",
    "outputs = []\n",
    "\n",
    "# 예측 반복\n",
    "for entry in samples:\n",
    "    text = entry[\"question\"]\n",
    "\n",
    "    inputs = tokenizer(\n",
    "        text,\n",
    "        return_tensors=\"pt\",\n",
    "        truncation=True,\n",
    "        padding=True,\n",
    "        max_length=128\n",
    "    ).to(device)\n",
    "\n",
    "    with torch.no_grad():\n",
    "        logits = model(**inputs).logits\n",
    "\n",
    "    pred_id = int(logits.argmax(dim=-1).cpu())\n",
    "\n",
    "    # 결과 저장\n",
    "    outputs.append({\n",
    "        \"question\": text,\n",
    "        \"label\": pred_id,  # 또는 label_map[pred_id] 써도 됨\n",
    "    })\n",
    "\n",
    "# 결과 저장\n",
    "out_path = os.path.join(base_dir, \"outputs\", \"cls_output.json\")\n",
    "os.makedirs(os.path.dirname(out_path), exist_ok=True)  # outputs 폴더 없으면 생성\n",
    "\n",
    "with open(out_path, \"w\", encoding=\"utf-8\") as f:\n",
    "    json.dump(outputs, f, ensure_ascii=False, indent=2)\n",
    "\n",
    "print(f\">>> 예측 결과 저장 완료: {out_path}\")"
   ],
   "outputs": [
    {
     "name": "stdout",
     "output_type": "stream",
     "text": [
      ">>> 예측 결과 저장 완료: D:\\lastproject\\Termproject_{9조}\\src\\outputs\\cls_output.json\n"
     ]
    }
   ],
   "execution_count": 3
  },
  {
   "cell_type": "code",
   "execution_count": null,
   "id": "abcbcf08-5655-4b1d-a2ee-9e29c95aeeb7",
   "metadata": {},
   "outputs": [],
   "source": []
  }
 ],
 "metadata": {
  "kernelspec": {
   "display_name": "Python 3 (ipykernel)",
   "language": "python",
   "name": "python3"
  },
  "language_info": {
   "codemirror_mode": {
    "name": "ipython",
    "version": 3
   },
   "file_extension": ".py",
   "mimetype": "text/x-python",
   "name": "python",
   "nbconvert_exporter": "python",
   "pygments_lexer": "ipython3",
   "version": "3.12.3"
  }
 },
 "nbformat": 4,
 "nbformat_minor": 5
}
