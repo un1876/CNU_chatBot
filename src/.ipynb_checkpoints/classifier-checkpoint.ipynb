{
 "cells": [
  {
   "cell_type": "code",
   "id": "initial_id",
   "metadata": {
    "collapsed": true,
    "ExecuteTime": {
     "end_time": "2025-06-22T04:35:02.259688Z",
     "start_time": "2025-06-22T04:35:02.186265Z"
    }
   },
   "source": [
    "import os, json, torch\n",
    "from transformers import AutoTokenizer, AutoModelForSequenceClassification\n",
    "\n",
    "base_dir = os.path.dirname(os.path.abspath(__file__))\n",
    "device   = torch.device(\"cuda\" if torch.cuda.is_available() else \"cpu\")\n",
    "\n",
    "# 숫자→문자 레이블 맵 (필요하시면 사용)\n",
    "label_map = {\n",
    "    0: \"졸업요건\",\n",
    "    1: \"학교 공지사항\",\n",
    "    2: \"학사일정\",\n",
    "    3: \"식단 안내\",\n",
    "    4: \"통학/셔틀 버스\",\n",
    "}\n",
    "\n",
    "# 토크나이저·모델 로드\n",
    "model_dir = os.path.join(base_dir, \"roberta\")\n",
    "tokenizer = AutoTokenizer.from_pretrained(model_dir)\n",
    "model     = AutoModelForSequenceClassification.from_pretrained(model_dir)\n",
    "model.to(device).eval()\n",
    "\n",
    "# 테스트 데이터 로드 (question + true label)\n",
    "test_path = os.path.join(base_dir, \"data\", \"cls_test.json\")\n",
    "with open(test_path, \"r\", encoding=\"utf-8\") as f:\n",
    "    samples = json.load(f)\n",
    "\n",
    "outputs = []\n",
    "correct = 0\n",
    "\n",
    "for entry in samples:\n",
    "    text    = entry[\"question\"]\n",
    "    true_id = int(entry[\"label\"])    #  실제 정답\n",
    "\n",
    "    # 토크나이징\n",
    "    inputs = tokenizer(\n",
    "        text,\n",
    "        return_tensors=\"pt\",\n",
    "        truncation=True,\n",
    "        padding=True,\n",
    "        max_length=128\n",
    "    ).to(device)\n",
    "\n",
    "    # 순전파\n",
    "    with torch.no_grad():\n",
    "        logits = model(**inputs).logits\n",
    "\n",
    "    # 예측 ID\n",
    "    pred_id = int(logits.argmax(dim=-1).cpu())\n",
    "\n",
    "    if pred_id == true_id:\n",
    "        correct += 1\n",
    "    # 출력용 리스트에 저장\n",
    "    outputs.append({\n",
    "        \"question\":  text,\n",
    "        \"label\": pred_id\n",
    "    })\n",
    "\n",
    "total = len(samples)\n",
    "accuracy = correct / total if total > 0 else 0.0\n",
    "\n",
    "# 결과 저장\n",
    "out_path = os.path.join(base_dir, \"outputs\",\"cls_output.json\")\n",
    "with open(out_path, \"w\", encoding=\"utf-8\") as f:\n",
    "    json.dump(outputs, f, ensure_ascii=False, indent=2)\n",
    "\n",
    "# 정확도 출력\n",
    "print(f\">>> {total}건 예측 완료 → {out_path}\")\n",
    "print(f\">>> 정확도: {correct}/{total} = {accuracy*100:.2f}%\")\n"
   ],
   "outputs": [
    {
     "ename": "NameError",
     "evalue": "name '__file__' is not defined",
     "output_type": "error",
     "traceback": [
      "\u001B[31m---------------------------------------------------------------------------\u001B[39m",
      "\u001B[31mNameError\u001B[39m                                 Traceback (most recent call last)",
      "\u001B[36mCell\u001B[39m\u001B[36m \u001B[39m\u001B[32mIn[2]\u001B[39m\u001B[32m, line 4\u001B[39m\n\u001B[32m      1\u001B[39m \u001B[38;5;28;01mimport\u001B[39;00m\u001B[38;5;250m \u001B[39m\u001B[34;01mos\u001B[39;00m,\u001B[38;5;250m \u001B[39m\u001B[34;01mjson\u001B[39;00m,\u001B[38;5;250m \u001B[39m\u001B[34;01mtorch\u001B[39;00m\n\u001B[32m      2\u001B[39m \u001B[38;5;28;01mfrom\u001B[39;00m\u001B[38;5;250m \u001B[39m\u001B[34;01mtransformers\u001B[39;00m\u001B[38;5;250m \u001B[39m\u001B[38;5;28;01mimport\u001B[39;00m AutoTokenizer, AutoModelForSequenceClassification\n\u001B[32m----> \u001B[39m\u001B[32m4\u001B[39m base_dir = os.path.dirname(os.path.abspath(\u001B[34;43m__file__\u001B[39;49m))\n\u001B[32m      5\u001B[39m device   = torch.device(\u001B[33m\"\u001B[39m\u001B[33mcuda\u001B[39m\u001B[33m\"\u001B[39m \u001B[38;5;28;01mif\u001B[39;00m torch.cuda.is_available() \u001B[38;5;28;01melse\u001B[39;00m \u001B[33m\"\u001B[39m\u001B[33mcpu\u001B[39m\u001B[33m\"\u001B[39m)\n\u001B[32m      7\u001B[39m \u001B[38;5;66;03m# 숫자→문자 레이블 맵 (필요하시면 사용)\u001B[39;00m\n",
      "\u001B[31mNameError\u001B[39m: name '__file__' is not defined"
     ]
    }
   ],
   "execution_count": 2
  }
 ],
 "metadata": {
  "kernelspec": {
   "display_name": "Python 3",
   "language": "python",
   "name": "python3"
  },
  "language_info": {
   "codemirror_mode": {
    "name": "ipython",
    "version": 2
   },
   "file_extension": ".py",
   "mimetype": "text/x-python",
   "name": "python",
   "nbconvert_exporter": "python",
   "pygments_lexer": "ipython2",
   "version": "2.7.6"
  }
 },
 "nbformat": 4,
 "nbformat_minor": 5
}
